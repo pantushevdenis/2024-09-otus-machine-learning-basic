{
 "cells": [
  {
   "cell_type": "markdown",
   "id": "59538f68-d928-4058-9d42-c7621d55c0eb",
   "metadata": {},
   "source": [
    "ОТУС онлайн образование\n",
    "\n",
    "## Дипломная работа\n",
    "A/B тестирование гипотезы эффективности производительности нескольких SQL запросов  \n",
    "\n",
    "Курс: Machine Learning. Basic  \n",
    "Студент: Пантюшев Денис Александрович  \n",
    "\n",
    "Москва-Екатеринбург  \n",
    "2025  \n"
   ]
  },
  {
   "cell_type": "markdown",
   "id": "ad30124d-e630-4ac2-98da-18a078c015d6",
   "metadata": {},
   "source": [
    "## Введение  \n",
    "В имеющемся приложении есть несколько SQL-запросов, которые выбирают информацию из таблиц базы данных. Структура таблиц, из которых производится выборка информации, типовая, и одинаковая для многих сущностей. Для каждой сущности имеется головная таблица, в которой фиксируется небольшой набор полей с основной информацией, и таблица с так называемыам \"характеристиками\", в которых можно хранить произвольную информацию. На каждую характеристику по каждому объекту сущности выделяется одна строка. Характеристика имеет код. Строка со значением характеристики имеет код типа характеристики, и дата, с которой начинается действие значения этой характеристики. Значение хранится в отдельном поле.  \n",
    "\n",
    "Такая схема позволяет хранить произвольное количество характеристик на каждый объект сущности, и хранить историю их изменений, но усложняет выборку. В данном приложении индексты отлажены и не требуют внимания.  \n",
    "\n",
    "Однако выборка строки из головной таблицы и нужного набора характеристик на определенную дату может быть осуществлена разными способами. Стоит задача определить самый лучший способ, \"стандартизировать\" работу с таблицами и прекратить ненужные споры в коллективе. Есть опасения, что разница в эффективности (ввиду использования одних и тех-же индексов) будет минимальной. При этом разброс в таймингах может быть весьма большим (имеющемуся опыту), распределение ненормальным. Поэтому требуется предоставить численное обоснование. Также требуется провести проверку быстро, не зарываясь в анализ планов, трассировок и прочих тяжелых интрументов. Также требуется воспользоваться только штатными инструментами, доступным программистам (доступа к серверу нет). Фактически - выполнять запросы и смотреть elapsed_time.\n",
    "\n",
    "В данном примере сущность - \"Договор\", таблицы ACCT и ACCT_CHAR"
   ]
  },
  {
   "cell_type": "markdown",
   "id": "01ec08f2-f0ba-4f9d-b23a-9d46bb1f7feb",
   "metadata": {},
   "source": [
    "## Структура таблиц и запросы"
   ]
  },
  {
   "cell_type": "markdown",
   "id": "317fb576-3c81-482f-9db2-7c5e64ae9283",
   "metadata": {},
   "source": [
    "Головная таблица:  \n",
    "```sql\n",
    "create table CI_ACCT\r\n",
    "(\r\n",
    "\tACCT_ID CHAR(10) not null\r\n",
    "\t\tprimary ke--- прочие поля\n",
    ")\n",
    ",\r\n",
    "\n",
    "```"
   ]
  },
  {
   "cell_type": "markdown",
   "id": "6c175d51-50d3-4863-8e92-15379a3f8d46",
   "metadata": {},
   "source": [
    "Таблица характеристик:  \n",
    "```sql\n",
    "create table ACCT_CHAR\r\n",
    "(\r\n",
    "\tACCT_ID CHAR(10) not null,\r\n",
    "\tCHAR_TYPE_CD CHAR(8) not null,\r\n",
    "\tEFFDT DATE not null,\r\n",
    "\tCHAR_VAL CHAR(16) default ' ' not null,\r\n",
    "\tADHOC_CHAR_VAL VARCHAR2(254) default ' ' no ' ' not null\r\n",
    ")\r\n",
    "\n",
    "```"
   ]
  },
  {
   "cell_type": "markdown",
   "id": "3c65c7a4-2a0a-46c6-a8ea-ce6e569fa61a",
   "metadata": {},
   "source": [
    "Запрос 1:\n",
    "```sql\n",
    "select /*00*/\n",
    "    a.ACCT_ID\n",
    "    , ch_dog_num.value as dog_num\n",
    "    , ch_acct_stat.value as acct_stat\n",
    "    , ch_no_paper.value as no_paper\n",
    "    , ch_cls_oesk.value as d_adr_corr\n",
    "from ACCT a\n",
    "left join (\n",
    "    select\n",
    "        ch.ACCT_ID\n",
    "        , coalesce(trim(ch.CHAR_VAL), trim(ch.ADHOC_CHAR_VAL)) as value\n",
    "    from ACCT_CHAR ch\n",
    "    where\n",
    "        ch.CHAR_TYPE_CD = 'DOG-NUM '\n",
    "        and ch.EFFDT = (\n",
    "            select max(i.EFFDT)\n",
    "            from ACCT_CHAR i\n",
    "            where\n",
    "                i.ACCT_ID = ch.ACCT_ID\n",
    "                and i.CHAR_TYPE_CD = ch.CHAR_TYPE_CD\n",
    "                and i.EFFDT <= CURRENT_DATE\n",
    "        )\n",
    ") ch_dog_num on ch_dog_num.ACCT_ID = a.ACCT_ID\n",
    "left join (\n",
    "    select\n",
    "        ch.ACCT_ID\n",
    "        , coalesce(trim(ch.CHAR_VAL), trim(ch.ADHOC_CHAR_VAL)) as value\n",
    "    from ACCT_CHAR ch\n",
    "    where\n",
    "        ch.CHAR_TYPE_CD = 'ACCTSTAT'\n",
    "        and ch.EFFDT = (\n",
    "            select max(i.EFFDT)\n",
    "            from ACCT_CHAR i\n",
    "            where\n",
    "                i.ACCT_ID = ch.ACCT_ID\n",
    "                and i.CHAR_TYPE_CD = ch.CHAR_TYPE_CD\n",
    "                and i.EFFDT <= CURRENT_DATE\n",
    "        )\n",
    ") ch_acct_stat on ch_acct_stat.ACCT_ID = a.ACCT_ID\n",
    "left join (\n",
    "    select\n",
    "        ch.ACCT_ID\n",
    "        , coalesce(trim(ch.CHAR_VAL), trim(ch.ADHOC_CHAR_VAL)) as value\n",
    "    from ACCT_CHAR ch\n",
    "    where\n",
    "        ch.CHAR_TYPE_CD = 'NO-PAPER'\n",
    "        and ch.EFFDT = (\n",
    "            select max(i.EFFDT)\n",
    "            from CI_ACCT_CHAR i\n",
    "            where\n",
    "                i.ACCT_ID = ch.ACCT_ID\n",
    "                and i.CHAR_TYPE_CD = ch.CHAR_TYPE_CD\n",
    "                and i.EFFDT <= CURRENT_DATE\n",
    "        )\n",
    ") ch_no_paper on ch_no_paper.ACCT_ID = a.ACCT_ID\n",
    "left join (\n",
    "    select\n",
    "        ch.ACCT_ID\n",
    "        , coalesce(trim(ch.CHAR_VAL), trim(ch.ADHOC_CHAR_VAL)) as value\n",
    "    from ACCT_CHAR ch\n",
    "    where\n",
    "        ch.CHAR_TYPE_CD = 'KLS-OESK'\n",
    "        and ch.EFFDT = (\n",
    "            select max(i.EFFDT)\n",
    "            from ACCT_CHAR i\n",
    "            where\n",
    "                i.ACCT_ID = ch.ACCT_ID\n",
    "                and i.CHAR_TYPE_CD = ch.CHAR_TYPE_CD\n",
    "                and i.EFFDT <= CURRENT_DATE\n",
    "        )\n",
    ") ch_cls_oesk on ch_cls_oesk.ACCT_ID = a.ACCT_ID\n",
    "where a.ACCT_ID = <код>;\n",
    "\n",
    "```"
   ]
  },
  {
   "cell_type": "markdown",
   "id": "7e6ba4b7-12b4-48b7-8e68-d9abba4c2f17",
   "metadata": {},
   "source": [
    "Запрос 2:  \n",
    "```sql\n",
    "select /*32*/a_ch.*\n",
    "from ACCT a\n",
    "left join (\n",
    "    select\n",
    "        ACCT_ID\n",
    "        , \"'DOG-NUM '\" as dog_num\n",
    "        , \"'ACCTSTAT'\" as acct_stat\n",
    "        , \"'NO-PAPER'\" as no_paper\n",
    "        , \"'KLS-OESK'\" as d_adr_corr\n",
    "    from (\n",
    "        select\n",
    "            ch.ACCT_ID\n",
    "            , ch.CHAR_TYPE_CD\n",
    "            , coalesce(trim(ch.CHAR_VAL), trim(ch.ADHOC_CHAR_VAL)) as value\n",
    "        from ACCT_CHAR ch\n",
    "        where\n",
    "            ch.EFFDT = (\n",
    "                select max(chi.EFFDT)\n",
    "                from ACCT_CHAR chi\n",
    "                where\n",
    "                    chi.ACCT_ID = ch.ACCT_ID\n",
    "                    and chi.CHAR_TYPE_CD = ch.CHAR_TYPE_CD\n",
    "                    and chi.EFFDT <= CURRENT_DATE --DATE '2024-01-01'\n",
    "            )\n",
    "    )\n",
    "    PIVOT (\n",
    "        max(value)\n",
    "        for char_type_cd in ('DOG-NUM ', 'NO-PAPER', 'ACCTSTAT', 'KLS-OESK')\n",
    "    )\n",
    ") a_ch on a_ch.ACCT_ID = a.ACCT_ID\n",
    "where a.ACCT_ID = <код>;\n",
    "```"
   ]
  },
  {
   "cell_type": "markdown",
   "id": "53c944a8-6358-4f7a-9e62-0782623c7927",
   "metadata": {},
   "source": [
    "Запрос 3:  \n",
    "```sql\n",
    "select /*31*/\n",
    "    a.ACCT_ID\n",
    "    , ch_dog_num.value as dog_num\n",
    "    , ch_acct_stat.value as acct_stat\n",
    "    , ch_no_paper.value as no_paper\n",
    "    , ch_cls_oesk.value as d_adr_corr\n",
    "from acct a\n",
    "    LEFT JOIN (\n",
    "        SELECT\n",
    "            ACCT_ID,\n",
    "            MAX(coalesce(trim(CHAR_VAL), trim(ADHOC_CHAR_VAL))) KEEP(DENSE_RANK LAST ORDER BY EFFDT) AS value\n",
    "        FROM ACCT_CHAR\n",
    "        WHERE CHAR_TYPE_CD = 'DOG-NUM ' AND EFFDT <= CURRENT_DATE\n",
    "        GROUP BY ACCT_ID) ch_dog_num ON ch_dog_num.ACCT_ID = A.ACCT_ID\n",
    "    LEFT JOIN (\n",
    "        SELECT\n",
    "            ACCT_ID,\n",
    "            MAX(coalesce(trim(CHAR_VAL), trim(ADHOC_CHAR_VAL))) KEEP(DENSE_RANK LAST ORDER BY EFFDT) AS value\n",
    "        FROM ACCT_CHAR\n",
    "        WHERE CHAR_TYPE_CD = 'ACCTSTAT' AND EFFDT <= CURRENT_DATE\n",
    "        GROUP BY ACCT_ID) ch_acct_stat ON ch_acct_stat.ACCT_ID = A.ACCT_ID\n",
    "    LEFT JOIN (\n",
    "        SELECT\n",
    "            ACCT_ID,\n",
    "            MAX(coalesce(trim(CHAR_VAL), trim(ADHOC_CHAR_VAL))) KEEP(DENSE_RANK LAST ORDER BY EFFDT) AS value\n",
    "        FROM ACCT_CHAR\n",
    "        WHERE CHAR_TYPE_CD = 'NO-PAPER' AND EFFDT <= CURRENT_DATE\n",
    "        GROUP BY ACCT_ID) ch_no_paper ON ch_no_paper.ACCT_ID = A.ACCT_ID\n",
    "    LEFT JOIN (\n",
    "        SELECT\n",
    "            ACCT_ID,\n",
    "            MAX(TRIM(CHAR_VAL)) KEEP(DENSE_RANK LAST ORDER BY EFFDT) AS value\n",
    "        FROM ACCT_CHAR\n",
    "        WHERE CHAR_TYPE_CD = 'KLS-OESK' AND EFFDT <= CURRENT_DATE\n",
    "        GROUP BY ACCT_ID) ch_cls_oesk ON ch_cls_oesk.ACCT_ID = A.ACCT_ID\n",
    "where a.acct_id = <код>;\n",
    "\n",
    "```"
   ]
  },
  {
   "cell_type": "markdown",
   "id": "9b14885b-e508-4c53-b1e7-f8c8f0134fe8",
   "metadata": {},
   "source": [
    "elapsed_time узнаем с помощью запроса \n",
    "```sql\n",
    "SELECT sql_id, executions, elapsed_time, cpu_time, disk_reads, SQL_FULLTEXT\n",
    "FROM v$sql\n",
    "WHERE sql_text LIKE '%select /*31*/%';\n",
    "```"
   ]
  },
  {
   "cell_type": "markdown",
   "id": "8eeb1a9f-2f57-4607-8181-65b4a3ed1eb7",
   "metadata": {},
   "source": [
    "## План эксперимента\n",
    "Выбираем определенный объект сущности в базе данных, узнаем его код. Выполняем каждый запрос несколько раз. Произвольно выбрав размер выборки в 10 штук каждого вида запроса. Сначала перед снятием выборки запускаем несколько раз запросы, чтобы время загрузки с диска на сервере не влияло на результат (прогрев). Сводим в таблицы и обрабатываем."
   ]
  },
  {
   "cell_type": "code",
   "execution_count": 100,
   "id": "f5d58fcd-619c-4bf2-b7e0-577d5ec19e24",
   "metadata": {},
   "outputs": [],
   "source": [
    "import numpy as np\n",
    "import pandas as pd\n",
    "import matplotlib.pyplot as plt\n",
    "import seaborn as sns\n",
    "from scipy.stats import ttest_ind, tmean, tstd\n",
    "import statsmodels.stats.power as smp\n",
    "from sklearn.model_selection import StratifiedShuffleSplit"
   ]
  },
  {
   "cell_type": "code",
   "execution_count": 185,
   "id": "3a757293-d252-4815-9ef2-fcc8b6c9e078",
   "metadata": {},
   "outputs": [],
   "source": [
    "data_a = {\n",
    "    \"elapsed\" : [\n",
    "        153511,\n",
    "        148720,\n",
    "        154518,\n",
    "        150387,\n",
    "        153433,\n",
    "        147000,\n",
    "        148841,\n",
    "        209524,\n",
    "        148275,\n",
    "        147119\n",
    "    ]}\n",
    "data_b = {\n",
    "    \"elapsed\" :  [\n",
    "        46199,\n",
    "        43753,\n",
    "        43385,\n",
    "        44143,\n",
    "        44106,\n",
    "        43897,\n",
    "        43575,\n",
    "        47846,\n",
    "        68334,\n",
    "        42545\n",
    "    ]}\n",
    "data_c = {\n",
    "    \"elapsed\" : [\n",
    "        28567,\n",
    "        23432,\n",
    "        21962,\n",
    "        22202,\n",
    "        22302,\n",
    "        20542,\n",
    "        20215,\n",
    "        21801,\n",
    "        23097,\n",
    "        29598,\n",
    "    ]\n",
    "}"
   ]
  },
  {
   "cell_type": "code",
   "execution_count": 75,
   "id": "68fb3aac-02be-426c-8ea9-f41ff8f517d5",
   "metadata": {},
   "outputs": [],
   "source": [
    "df_a = pd.DataFrame(data_a)\n",
    "df_b = pd.DataFrame(data_b)\n",
    "df_c = pd.DataFrame(data_c)"
   ]
  },
  {
   "cell_type": "code",
   "execution_count": 77,
   "id": "0eaaf8a5-10d7-4079-9164-5391f296cfff",
   "metadata": {},
   "outputs": [
    {
     "data": {
      "text/html": [
       "<div>\n",
       "<style scoped>\n",
       "    .dataframe tbody tr th:only-of-type {\n",
       "        vertical-align: middle;\n",
       "    }\n",
       "\n",
       "    .dataframe tbody tr th {\n",
       "        vertical-align: top;\n",
       "    }\n",
       "\n",
       "    .dataframe thead th {\n",
       "        text-align: right;\n",
       "    }\n",
       "</style>\n",
       "<table border=\"1\" class=\"dataframe\">\n",
       "  <thead>\n",
       "    <tr style=\"text-align: right;\">\n",
       "      <th></th>\n",
       "      <th>elapsed</th>\n",
       "    </tr>\n",
       "  </thead>\n",
       "  <tbody>\n",
       "    <tr>\n",
       "      <th>0</th>\n",
       "      <td>153511</td>\n",
       "    </tr>\n",
       "    <tr>\n",
       "      <th>1</th>\n",
       "      <td>148720</td>\n",
       "    </tr>\n",
       "    <tr>\n",
       "      <th>2</th>\n",
       "      <td>154518</td>\n",
       "    </tr>\n",
       "    <tr>\n",
       "      <th>3</th>\n",
       "      <td>150387</td>\n",
       "    </tr>\n",
       "    <tr>\n",
       "      <th>4</th>\n",
       "      <td>153433</td>\n",
       "    </tr>\n",
       "    <tr>\n",
       "      <th>5</th>\n",
       "      <td>147000</td>\n",
       "    </tr>\n",
       "    <tr>\n",
       "      <th>6</th>\n",
       "      <td>148841</td>\n",
       "    </tr>\n",
       "    <tr>\n",
       "      <th>7</th>\n",
       "      <td>209524</td>\n",
       "    </tr>\n",
       "    <tr>\n",
       "      <th>8</th>\n",
       "      <td>148275</td>\n",
       "    </tr>\n",
       "    <tr>\n",
       "      <th>9</th>\n",
       "      <td>147119</td>\n",
       "    </tr>\n",
       "  </tbody>\n",
       "</table>\n",
       "</div>"
      ],
      "text/plain": [
       "   elapsed\n",
       "0   153511\n",
       "1   148720\n",
       "2   154518\n",
       "3   150387\n",
       "4   153433\n",
       "5   147000\n",
       "6   148841\n",
       "7   209524\n",
       "8   148275\n",
       "9   147119"
      ]
     },
     "execution_count": 77,
     "metadata": {},
     "output_type": "execute_result"
    }
   ],
   "source": [
    "df_a"
   ]
  },
  {
   "cell_type": "code",
   "execution_count": 81,
   "id": "aa4c830b-461c-49c2-9b0d-dc3699432e40",
   "metadata": {},
   "outputs": [
    {
     "data": {
      "text/html": [
       "<div>\n",
       "<style scoped>\n",
       "    .dataframe tbody tr th:only-of-type {\n",
       "        vertical-align: middle;\n",
       "    }\n",
       "\n",
       "    .dataframe tbody tr th {\n",
       "        vertical-align: top;\n",
       "    }\n",
       "\n",
       "    .dataframe thead th {\n",
       "        text-align: right;\n",
       "    }\n",
       "</style>\n",
       "<table border=\"1\" class=\"dataframe\">\n",
       "  <thead>\n",
       "    <tr style=\"text-align: right;\">\n",
       "      <th></th>\n",
       "      <th>elapsed</th>\n",
       "    </tr>\n",
       "  </thead>\n",
       "  <tbody>\n",
       "    <tr>\n",
       "      <th>0</th>\n",
       "      <td>46199</td>\n",
       "    </tr>\n",
       "    <tr>\n",
       "      <th>1</th>\n",
       "      <td>43753</td>\n",
       "    </tr>\n",
       "    <tr>\n",
       "      <th>2</th>\n",
       "      <td>43385</td>\n",
       "    </tr>\n",
       "    <tr>\n",
       "      <th>3</th>\n",
       "      <td>44143</td>\n",
       "    </tr>\n",
       "    <tr>\n",
       "      <th>4</th>\n",
       "      <td>44106</td>\n",
       "    </tr>\n",
       "    <tr>\n",
       "      <th>5</th>\n",
       "      <td>43897</td>\n",
       "    </tr>\n",
       "    <tr>\n",
       "      <th>6</th>\n",
       "      <td>43575</td>\n",
       "    </tr>\n",
       "    <tr>\n",
       "      <th>7</th>\n",
       "      <td>47846</td>\n",
       "    </tr>\n",
       "    <tr>\n",
       "      <th>8</th>\n",
       "      <td>68334</td>\n",
       "    </tr>\n",
       "    <tr>\n",
       "      <th>9</th>\n",
       "      <td>42545</td>\n",
       "    </tr>\n",
       "  </tbody>\n",
       "</table>\n",
       "</div>"
      ],
      "text/plain": [
       "   elapsed\n",
       "0    46199\n",
       "1    43753\n",
       "2    43385\n",
       "3    44143\n",
       "4    44106\n",
       "5    43897\n",
       "6    43575\n",
       "7    47846\n",
       "8    68334\n",
       "9    42545"
      ]
     },
     "execution_count": 81,
     "metadata": {},
     "output_type": "execute_result"
    }
   ],
   "source": [
    "df_b"
   ]
  },
  {
   "cell_type": "code",
   "execution_count": 83,
   "id": "9245116d-b2c0-4530-83cf-380854fa1e64",
   "metadata": {},
   "outputs": [
    {
     "data": {
      "text/html": [
       "<div>\n",
       "<style scoped>\n",
       "    .dataframe tbody tr th:only-of-type {\n",
       "        vertical-align: middle;\n",
       "    }\n",
       "\n",
       "    .dataframe tbody tr th {\n",
       "        vertical-align: top;\n",
       "    }\n",
       "\n",
       "    .dataframe thead th {\n",
       "        text-align: right;\n",
       "    }\n",
       "</style>\n",
       "<table border=\"1\" class=\"dataframe\">\n",
       "  <thead>\n",
       "    <tr style=\"text-align: right;\">\n",
       "      <th></th>\n",
       "      <th>elapsed</th>\n",
       "    </tr>\n",
       "  </thead>\n",
       "  <tbody>\n",
       "    <tr>\n",
       "      <th>0</th>\n",
       "      <td>28567</td>\n",
       "    </tr>\n",
       "    <tr>\n",
       "      <th>1</th>\n",
       "      <td>23432</td>\n",
       "    </tr>\n",
       "    <tr>\n",
       "      <th>2</th>\n",
       "      <td>21962</td>\n",
       "    </tr>\n",
       "    <tr>\n",
       "      <th>3</th>\n",
       "      <td>22202</td>\n",
       "    </tr>\n",
       "    <tr>\n",
       "      <th>4</th>\n",
       "      <td>22302</td>\n",
       "    </tr>\n",
       "    <tr>\n",
       "      <th>5</th>\n",
       "      <td>20542</td>\n",
       "    </tr>\n",
       "    <tr>\n",
       "      <th>6</th>\n",
       "      <td>20215</td>\n",
       "    </tr>\n",
       "    <tr>\n",
       "      <th>7</th>\n",
       "      <td>21801</td>\n",
       "    </tr>\n",
       "    <tr>\n",
       "      <th>8</th>\n",
       "      <td>23097</td>\n",
       "    </tr>\n",
       "    <tr>\n",
       "      <th>9</th>\n",
       "      <td>29598</td>\n",
       "    </tr>\n",
       "  </tbody>\n",
       "</table>\n",
       "</div>"
      ],
      "text/plain": [
       "   elapsed\n",
       "0    28567\n",
       "1    23432\n",
       "2    21962\n",
       "3    22202\n",
       "4    22302\n",
       "5    20542\n",
       "6    20215\n",
       "7    21801\n",
       "8    23097\n",
       "9    29598"
      ]
     },
     "execution_count": 83,
     "metadata": {},
     "output_type": "execute_result"
    }
   ],
   "source": [
    "df_c"
   ]
  },
  {
   "cell_type": "markdown",
   "id": "d69bcbe3-0837-405f-822f-6a428f888d62",
   "metadata": {},
   "source": [
    "## Проверяем, лучше ли запрос B, чем А:"
   ]
  },
  {
   "cell_type": "code",
   "execution_count": 161,
   "id": "5fc5d6fe-85a4-420d-a28c-7014eff5cbdf",
   "metadata": {},
   "outputs": [
    {
     "name": "stdout",
     "output_type": "stream",
     "text": [
      "Среднее значение A: 156132.80\n",
      "Стандартное отклонение A: 18958.80\n"
     ]
    }
   ],
   "source": [
    "mean_a = tmean(df_a)\n",
    "print(f\"Среднее значение A: {mean_a:.2f}\")\n",
    "std_dev_a = tstd(df_a)[0]\n",
    "print(f\"Стандартное отклонение A: {std_dev_a:.2f}\")"
   ]
  },
  {
   "cell_type": "code",
   "execution_count": 159,
   "id": "f48b5081-7b6b-417e-b0a5-66bf79c9e957",
   "metadata": {},
   "outputs": [
    {
     "name": "stdout",
     "output_type": "stream",
     "text": [
      "Среднее значение B: 46778.30\n",
      "Стандартное отклонение B: 7727.01\n"
     ]
    }
   ],
   "source": [
    "mean_b = tmean(df_b)\n",
    "print(f\"Среднее значение B: {mean_b:.2f}\")\n",
    "std_dev_b = tstd(df_b)[0]\n",
    "print(f\"Стандартное отклонение B: {std_dev_b:.2f}\")"
   ]
  },
  {
   "cell_type": "markdown",
   "id": "2022b9fb-b01d-4812-acb3-34e23ff31392",
   "metadata": {},
   "source": [
    "Вывод: Запрос B лучше, чем запрос A."
   ]
  },
  {
   "cell_type": "markdown",
   "id": "1c3593af-a37e-40bc-8d8c-8a190bdac291",
   "metadata": {},
   "source": [
    "## Проверяем значимость результатов сравнения запросов A и B"
   ]
  },
  {
   "cell_type": "code",
   "execution_count": 167,
   "id": "2e2749c3-c1e1-42d7-bd32-40ea4fb02f82",
   "metadata": {},
   "outputs": [
    {
     "data": {
      "image/png": "[encoded data removed]",
      "text/plain": [
       "<Figure size 640x480 with 1 Axes>"
      ]
     },
     "metadata": {},
     "output_type": "display_data"
    }
   ],
   "source": [
    "plt.hist(df_a, bins=40, alpha=0.8, range = (0, df_a[\"elapsed\"].max(axis=0)), color='g', label=\"запроса A\")\n",
    "plt.hist(df_b, bins=40, alpha=0.8, range = (0, df_b[\"elapsed\"].max(axis=0)), color='r', label=\"запроса B\")\n",
    "\n",
    "plt.axvline(mean_a - std_dev_a, color='green', linestyle='dotted', linewidth=1, label=f'±1 STD = {std_dev_a:.2f}')\n",
    "plt.axvline(mean_a + std_dev_a, color='green', linestyle='dotted', linewidth=1)\n",
    "\n",
    "plt.axvline(mean_b - std_dev_b, color='red', linestyle='dotted', linewidth=1, label=f'±1 STD = {std_dev_b:.2f}')\n",
    "plt.axvline(mean_b + std_dev_b, color='red', linestyle='dotted', linewidth=1)\n",
    "\n",
    "\n",
    "plt.title('Гистограмма распредеделия elapsed запросов A и B')\n",
    "plt.xlabel('elapsed')\n",
    "plt.ylabel('Частота')\n",
    "plt.legend()\n",
    "\n",
    "# Показать график\n",
    "plt.show()"
   ]
  },
  {
   "cell_type": "code",
   "execution_count": 57,
   "id": "a862532a-5b17-40d6-a723-1627cd59ace2",
   "metadata": {},
   "outputs": [],
   "source": [
    "from scipy import stats"
   ]
  },
  {
   "cell_type": "code",
   "execution_count": 95,
   "id": "4ab6e02e-4576-4485-9fdc-d44be5f3b015",
   "metadata": {},
   "outputs": [],
   "source": [
    "shapiro_A = stats.shapiro(df_a)\n",
    "shapiro_B = stats.shapiro(df_b)"
   ]
  },
  {
   "cell_type": "code",
   "execution_count": 93,
   "id": "d29471f6-f4c8-4682-a332-7235e3a12767",
   "metadata": {},
   "outputs": [
    {
     "data": {
      "text/plain": [
       "ShapiroResult(statistic=0.49628496170043945, pvalue=3.289822188889957e-06)"
      ]
     },
     "execution_count": 93,
     "metadata": {},
     "output_type": "execute_result"
    }
   ],
   "source": [
    "shapiro_A"
   ]
  },
  {
   "cell_type": "code",
   "execution_count": 97,
   "id": "911bf7a9-1d28-4527-aa54-b4bd49952d04",
   "metadata": {},
   "outputs": [
    {
     "data": {
      "text/plain": [
       "ShapiroResult(statistic=0.5303599834442139, pvalue=8.27025269245496e-06)"
      ]
     },
     "execution_count": 97,
     "metadata": {},
     "output_type": "execute_result"
    }
   ],
   "source": [
    "shapiro_B"
   ]
  },
  {
   "cell_type": "markdown",
   "id": "31c79a32-dba3-42c7-bc27-64d42704b73b",
   "metadata": {},
   "source": [
    "pvalue < 0.05  \n",
    "Вывод: Данные не распределены нормально"
   ]
  },
  {
   "cell_type": "markdown",
   "id": "0375d3c6-13fd-4ab5-82ff-a146edb04815",
   "metadata": {},
   "source": [
    "Используем непараметрический тест U-тест Манна-Уитни"
   ]
  },
  {
   "cell_type": "code",
   "execution_count": 87,
   "id": "27392127-8428-4dd2-bbc9-be8455fedd97",
   "metadata": {},
   "outputs": [],
   "source": [
    "u_stat, p_value = stats.mannwhitneyu(df_a, df_b)\n"
   ]
  },
  {
   "cell_type": "code",
   "execution_count": 89,
   "id": "f43c3c0b-20c0-4a57-aede-33422a3f741c",
   "metadata": {},
   "outputs": [
    {
     "data": {
      "text/plain": [
       "(array([100.]), array([0.00018267]))"
      ]
     },
     "execution_count": 89,
     "metadata": {},
     "output_type": "execute_result"
    }
   ],
   "source": [
    "u_stat, p_value"
   ]
  },
  {
   "cell_type": "markdown",
   "id": "4187a6a4-e58d-4adc-b460-87d9a3985c35",
   "metadata": {},
   "source": [
    "Интерпретация результата:  \n",
    "alpha = 0.05  \n",
    "p_value <= alpha  \n",
    "0.00018267 < 0.05  \n",
    "Следовательно, отвергаем нулевую гипотезу, различия между A и B значительны.\n",
    "Запрос B лучше в плане производительности.\n"
   ]
  },
  {
   "cell_type": "markdown",
   "id": "3aa170b6-927a-4a73-8f36-4c63020fb980",
   "metadata": {},
   "source": [
    "Но у нас есть еще запрос С!"
   ]
  },
  {
   "cell_type": "markdown",
   "id": "fbf2e478-c67e-4f13-b6a2-8b787bae6678",
   "metadata": {},
   "source": [
    "## Проверяем, лучше ли запрос C, чем B:"
   ]
  },
  {
   "cell_type": "code",
   "execution_count": 122,
   "id": "75555cc0-6794-4bdf-b968-2cb89e68ca94",
   "metadata": {},
   "outputs": [
    {
     "name": "stdout",
     "output_type": "stream",
     "text": [
      "Среднее значение B: 46778.30\n",
      "Стандартное отклонение B: 7727.01\n"
     ]
    }
   ],
   "source": [
    "mean_b = tmean(df_b)\n",
    "print(f\"Среднее значение B: {mean_b:.2f}\")\n",
    "std_dev_b = tstd(df_b)\n",
    "print(f\"Стандартное отклонение B: {std_dev_b[0]:.2f}\")"
   ]
  },
  {
   "cell_type": "code",
   "execution_count": 179,
   "id": "cddbfcc0-1e0e-4a94-ad77-cafa9bf3799c",
   "metadata": {},
   "outputs": [
    {
     "name": "stdout",
     "output_type": "stream",
     "text": [
      "Среднее значение C: 23371.80\n",
      "Стандартное отклонение C: 3175.88\n"
     ]
    }
   ],
   "source": [
    "mean_c = tmean(df_c)\n",
    "print(f\"Среднее значение C: {mean_c:.2f}\")\n",
    "std_dev_c = tstd(df_c)[0]\n",
    "print(f\"Стандартное отклонение C: {std_dev_c:.2f}\")"
   ]
  },
  {
   "cell_type": "markdown",
   "id": "e07d8141-2053-418c-97cd-4ae9efa9538e",
   "metadata": {},
   "source": [
    "Вывод: Запрос C лучше, чем запрос B!"
   ]
  },
  {
   "cell_type": "markdown",
   "id": "9ff2df1f-8a20-4e98-a853-a6871770a819",
   "metadata": {},
   "source": [
    "## Проверяем значимость результатов сравнения запросов B и C"
   ]
  },
  {
   "cell_type": "code",
   "execution_count": 181,
   "id": "194a6c8e-5c2d-4740-b7bb-82be2cf4ae17",
   "metadata": {},
   "outputs": [
    {
     "data": {
      "image/png": "[encoded data removed]",
      "text/plain": [
       "<Figure size 640x480 with 1 Axes>"
      ]
     },
     "metadata": {},
     "output_type": "display_data"
    }
   ],
   "source": [
    "plt.hist(df_b, bins=40, alpha=0.8, range = (0, df_b[\"elapsed\"].max(axis=0)), color='r', label=\"запроса B\")\n",
    "plt.hist(df_c, bins=40, alpha=0.8, range = (0, df_c[\"elapsed\"].max(axis=0)), color='b', label=\"запроса C\")\n",
    "\n",
    "plt.axvline(mean_b - std_dev_b, color='red', linestyle='dotted', linewidth=1, label=f'±1 STD = {std_dev_b:.2f}')\n",
    "plt.axvline(mean_b + std_dev_b, color='red', linestyle='dotted', linewidth=1)\n",
    "\n",
    "plt.axvline(mean_c - std_dev_c, color='blue', linestyle='dotted', linewidth=1, label=f'±1 STD = {std_dev_c:.2f}')\n",
    "plt.axvline(mean_c + std_dev_c, color='blue', linestyle='dotted', linewidth=1)\n",
    "\n",
    "\n",
    "plt.title('Гистограмма распредеделия elapsed запросов B и C')\n",
    "plt.xlabel('elapsed')\n",
    "plt.ylabel('Частота')\n",
    "plt.legend()\n",
    "\n",
    "# Показать график\n",
    "plt.show()"
   ]
  },
  {
   "cell_type": "code",
   "execution_count": 144,
   "id": "fbcfb0a7-a54d-45af-80d8-e81809f380a1",
   "metadata": {},
   "outputs": [],
   "source": [
    "from scipy import stats"
   ]
  },
  {
   "cell_type": "code",
   "execution_count": 146,
   "id": "76a8a81b-7036-4b5f-a6d7-705336df89b1",
   "metadata": {},
   "outputs": [],
   "source": [
    "shapiro_B = stats.shapiro(df_b)\n",
    "shapiro_C = stats.shapiro(df_c)"
   ]
  },
  {
   "cell_type": "code",
   "execution_count": 93,
   "id": "61fecdbc-b3d1-4665-9bc3-d657199de4d7",
   "metadata": {},
   "outputs": [
    {
     "data": {
      "text/plain": [
       "ShapiroResult(statistic=0.49628496170043945, pvalue=3.289822188889957e-06)"
      ]
     },
     "execution_count": 93,
     "metadata": {},
     "output_type": "execute_result"
    }
   ],
   "source": [
    "shapiro_B"
   ]
  },
  {
   "cell_type": "code",
   "execution_count": 150,
   "id": "f0ac0e42-cb0f-4737-9ed1-1f96ac6bb976",
   "metadata": {},
   "outputs": [
    {
     "data": {
      "text/plain": [
       "ShapiroResult(statistic=0.7989405393600464, pvalue=0.014074987731873989)"
      ]
     },
     "execution_count": 150,
     "metadata": {},
     "output_type": "execute_result"
    }
   ],
   "source": [
    "shapiro_C"
   ]
  },
  {
   "cell_type": "markdown",
   "id": "6603c75c-02e3-4ff6-9b54-83c7a05f79c3",
   "metadata": {},
   "source": [
    "pvalue < 0.05  \n",
    "Вывод: Данные не распределены нормально"
   ]
  },
  {
   "cell_type": "markdown",
   "id": "646cc15a-cf45-458b-899a-7ed4a77b884b",
   "metadata": {},
   "source": [
    "Используем непараметрический тест U-тест Манна-Уитни"
   ]
  },
  {
   "cell_type": "code",
   "execution_count": 152,
   "id": "eced7374-0179-440f-bdbb-3331578797b4",
   "metadata": {},
   "outputs": [],
   "source": [
    "u_stat_2, p_value_2 = stats.mannwhitneyu(df_b, df_c)\n"
   ]
  },
  {
   "cell_type": "code",
   "execution_count": 154,
   "id": "bf1adc37-eaef-4cf9-aa32-ddcc77c007fa",
   "metadata": {},
   "outputs": [
    {
     "data": {
      "text/plain": [
       "(array([100.]), array([0.00018267]))"
      ]
     },
     "execution_count": 154,
     "metadata": {},
     "output_type": "execute_result"
    }
   ],
   "source": [
    "u_stat_2, p_value_2"
   ]
  },
  {
   "cell_type": "markdown",
   "id": "ec7bc8b8-9f23-4926-b4ad-f7b0e29f7766",
   "metadata": {},
   "source": [
    "Интерпретация результата:  \n",
    "alpha = 0.05  \n",
    "p_value <= alpha  \n",
    "0.00018267 < 0.05  \n",
    "Следовательно, отвергаем нулевую гипотезу, различия между B и C значительны.\n",
    "Запрос C лучше в плане производительности, чем B.\n"
   ]
  },
  {
   "cell_type": "markdown",
   "id": "ccc1f95c-8316-453e-8c27-8d928346ff4e",
   "metadata": {},
   "source": [
    "### Вывод\n",
    "Мы провели эксперимент, исследовали три sql-запроса в плане производительности, определили самый лучший (им оказался запрос C), \n",
    "убедились, что различия между результатами статистически значими.  \n",
    "Данный кейс не очень показателен, поскольку и при сравнении средних со стандартными отклонениями, и визуально при постороении гистограмм, \n",
    "очевидно что победителем является запрос B, но так бывает далеко не всегда."
   ]
  },
  {
   "cell_type": "code",
   "execution_count": null,
   "id": "7edef36a-28c4-49b9-bee2-23483cd16f94",
   "metadata": {},
   "outputs": [],
   "source": []
  }
 ],
 "metadata": {
  "kernelspec": {
   "display_name": "Python 3 (ipykernel)",
   "language": "python",
   "name": "python3"
  },
  "language_info": {
   "codemirror_mode": {
    "name": "ipython",
    "version": 3
   },
   "file_extension": ".py",
   "mimetype": "text/x-python",
   "name": "python",
   "nbconvert_exporter": "python",
   "pygments_lexer": "ipython3",
   "version": "3.11.7"
  }
 },
 "nbformat": 4,
 "nbformat_minor": 5
}
